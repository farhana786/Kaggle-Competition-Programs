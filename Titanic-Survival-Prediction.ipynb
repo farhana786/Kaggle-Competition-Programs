{
 "cells": [
  {
   "cell_type": "markdown",
   "id": "8bf4d676",
   "metadata": {},
   "source": [
    "# Titanic Survival Prediction Model\n",
    "#### In this project I'll try to make best model for Survival Prediction. I'll experiment with various different ways of Preprocessing, Exploratory Data Analysis, Model Training and Hyperparameter tuning.\n",
    "##### I'll perform below steps:-\n",
    "1. Data cleaning / Handling missing values\n",
    "2. Data Visualization\n",
    "3. Data Preprocessing\n",
    "4. Feature scaling with standardization\n",
    "5. Build model using various Machine Learning algorithms\n",
    "6. Campare the accuracy to choose the suitable model\n",
    "7. Hyperparameter tuning & do predictions\n",
    "8. Create a pickle file & submit the prediction result"
   ]
  },
  {
   "cell_type": "markdown",
   "id": "c279f3c0",
   "metadata": {},
   "source": [
    "#### Problem Defination:- Knowing from a training dataset of samples listing passangers who survived or not survived the titanic disaster. Can our model determine based on a given test dataset not containing the survival information, if these passangers in the test dataset survived or not."
   ]
  },
  {
   "cell_type": "code",
   "execution_count": 1,
   "id": "327f108d",
   "metadata": {},
   "outputs": [],
   "source": [
    "# Importing Libraries\n",
    "# Data analysis\n",
    "import pandas as pd\n",
    "import numpy as np\n",
    "\n",
    "#Visualization\n",
    "import seaborn as sns\n",
    "import matplotlib.pyplot as plt\n",
    "%matplotlib inline"
   ]
  },
  {
   "cell_type": "markdown",
   "id": "c79ecc6e",
   "metadata": {},
   "source": [
    "### Acquire Data\n",
    "##### The Python Pandas library helps us to work with our datasets. We start by acquiring the training and tesing datasets into Pandas DataFrames."
   ]
  },
  {
   "cell_type": "code",
   "execution_count": 2,
   "id": "6d5ab87f",
   "metadata": {},
   "outputs": [],
   "source": [
    "# Load Train and Test datasets and create copy\n",
    "train_data = pd.read_csv(\"titanic_train_data.csv\")\n",
    "test_data = pd.read_csv(\"titanic_test_data.csv\")\n",
    "train = train_data.copy()\n",
    "test = test_data.copy()"
   ]
  },
  {
   "cell_type": "markdown",
   "id": "acda6e67",
   "metadata": {},
   "source": [
    "##### To know the information of the dataset, we use info() function. It gives information about variables, number of non null count, datatype of each column and memory usage."
   ]
  },
  {
   "cell_type": "code",
   "execution_count": 3,
   "id": "2fcf7e48",
   "metadata": {
    "scrolled": true
   },
   "outputs": [
    {
     "name": "stdout",
     "output_type": "stream",
     "text": [
      "<class 'pandas.core.frame.DataFrame'>\n",
      "RangeIndex: 891 entries, 0 to 890\n",
      "Data columns (total 12 columns):\n",
      " #   Column       Non-Null Count  Dtype  \n",
      "---  ------       --------------  -----  \n",
      " 0   PassengerId  891 non-null    int64  \n",
      " 1   Survived     891 non-null    int64  \n",
      " 2   Pclass       891 non-null    int64  \n",
      " 3   Name         891 non-null    object \n",
      " 4   Sex          891 non-null    object \n",
      " 5   Age          714 non-null    float64\n",
      " 6   SibSp        891 non-null    int64  \n",
      " 7   Parch        891 non-null    int64  \n",
      " 8   Ticket       891 non-null    object \n",
      " 9   Fare         891 non-null    float64\n",
      " 10  Cabin        204 non-null    object \n",
      " 11  Embarked     889 non-null    object \n",
      "dtypes: float64(2), int64(5), object(5)\n",
      "memory usage: 83.7+ KB\n",
      "None\n"
     ]
    }
   ],
   "source": [
    "print(train.info())"
   ]
  },
  {
   "cell_type": "code",
   "execution_count": 4,
   "id": "3e70c411",
   "metadata": {},
   "outputs": [
    {
     "name": "stdout",
     "output_type": "stream",
     "text": [
      "<class 'pandas.core.frame.DataFrame'>\n",
      "RangeIndex: 418 entries, 0 to 417\n",
      "Data columns (total 11 columns):\n",
      " #   Column       Non-Null Count  Dtype  \n",
      "---  ------       --------------  -----  \n",
      " 0   PassengerId  418 non-null    int64  \n",
      " 1   Pclass       418 non-null    int64  \n",
      " 2   Name         418 non-null    object \n",
      " 3   Sex          418 non-null    object \n",
      " 4   Age          332 non-null    float64\n",
      " 5   SibSp        418 non-null    int64  \n",
      " 6   Parch        418 non-null    int64  \n",
      " 7   Ticket       418 non-null    object \n",
      " 8   Fare         417 non-null    float64\n",
      " 9   Cabin        91 non-null     object \n",
      " 10  Embarked     418 non-null    object \n",
      "dtypes: float64(2), int64(4), object(5)\n",
      "memory usage: 36.0+ KB\n",
      "None\n"
     ]
    }
   ],
   "source": [
    "print(test.info())"
   ]
  },
  {
   "cell_type": "markdown",
   "id": "8f30c0f3",
   "metadata": {},
   "source": [
    "##### To know the statistical details of the dataset, we use describe() function"
   ]
  },
  {
   "cell_type": "code",
   "execution_count": 5,
   "id": "5298a41f",
   "metadata": {},
   "outputs": [
    {
     "name": "stdout",
     "output_type": "stream",
     "text": [
      "       PassengerId    Survived      Pclass         Age       SibSp  \\\n",
      "count   891.000000  891.000000  891.000000  714.000000  891.000000   \n",
      "mean    446.000000    0.383838    2.308642   29.699118    0.523008   \n",
      "std     257.353842    0.486592    0.836071   14.526497    1.102743   \n",
      "min       1.000000    0.000000    1.000000    0.420000    0.000000   \n",
      "25%     223.500000    0.000000    2.000000   20.125000    0.000000   \n",
      "50%     446.000000    0.000000    3.000000   28.000000    0.000000   \n",
      "75%     668.500000    1.000000    3.000000   38.000000    1.000000   \n",
      "max     891.000000    1.000000    3.000000   80.000000    8.000000   \n",
      "\n",
      "            Parch        Fare  \n",
      "count  891.000000  891.000000  \n",
      "mean     0.381594   32.204208  \n",
      "std      0.806057   49.693429  \n",
      "min      0.000000    0.000000  \n",
      "25%      0.000000    7.910400  \n",
      "50%      0.000000   14.454200  \n",
      "75%      0.000000   31.000000  \n",
      "max      6.000000  512.329200  \n"
     ]
    }
   ],
   "source": [
    "print(train.describe())"
   ]
  },
  {
   "cell_type": "code",
   "execution_count": 6,
   "id": "1df879c8",
   "metadata": {},
   "outputs": [
    {
     "name": "stdout",
     "output_type": "stream",
     "text": [
      "       PassengerId      Pclass         Age       SibSp       Parch        Fare\n",
      "count   418.000000  418.000000  332.000000  418.000000  418.000000  417.000000\n",
      "mean   1100.500000    2.265550   30.272590    0.447368    0.392344   35.627188\n",
      "std     120.810458    0.841838   14.181209    0.896760    0.981429   55.907576\n",
      "min     892.000000    1.000000    0.170000    0.000000    0.000000    0.000000\n",
      "25%     996.250000    1.000000   21.000000    0.000000    0.000000    7.895800\n",
      "50%    1100.500000    3.000000   27.000000    0.000000    0.000000   14.454200\n",
      "75%    1204.750000    3.000000   39.000000    1.000000    0.000000   31.500000\n",
      "max    1309.000000    3.000000   76.000000    8.000000    9.000000  512.329200\n"
     ]
    }
   ],
   "source": [
    "print(test.describe())"
   ]
  },
  {
   "cell_type": "markdown",
   "id": "2fb339d7",
   "metadata": {},
   "source": [
    "##### To display the row details of the dataframe, we use head() method. By defult it displays first 5 row details as an output"
   ]
  },
  {
   "cell_type": "code",
   "execution_count": 7,
   "id": "880b4880",
   "metadata": {
    "scrolled": true
   },
   "outputs": [
    {
     "data": {
      "text/html": [
       "<div>\n",
       "<style scoped>\n",
       "    .dataframe tbody tr th:only-of-type {\n",
       "        vertical-align: middle;\n",
       "    }\n",
       "\n",
       "    .dataframe tbody tr th {\n",
       "        vertical-align: top;\n",
       "    }\n",
       "\n",
       "    .dataframe thead th {\n",
       "        text-align: right;\n",
       "    }\n",
       "</style>\n",
       "<table border=\"1\" class=\"dataframe\">\n",
       "  <thead>\n",
       "    <tr style=\"text-align: right;\">\n",
       "      <th></th>\n",
       "      <th>PassengerId</th>\n",
       "      <th>Survived</th>\n",
       "      <th>Pclass</th>\n",
       "      <th>Name</th>\n",
       "      <th>Sex</th>\n",
       "      <th>Age</th>\n",
       "      <th>SibSp</th>\n",
       "      <th>Parch</th>\n",
       "      <th>Ticket</th>\n",
       "      <th>Fare</th>\n",
       "      <th>Cabin</th>\n",
       "      <th>Embarked</th>\n",
       "    </tr>\n",
       "  </thead>\n",
       "  <tbody>\n",
       "    <tr>\n",
       "      <th>0</th>\n",
       "      <td>1</td>\n",
       "      <td>0</td>\n",
       "      <td>3</td>\n",
       "      <td>Braund, Mr. Owen Harris</td>\n",
       "      <td>male</td>\n",
       "      <td>22.0</td>\n",
       "      <td>1</td>\n",
       "      <td>0</td>\n",
       "      <td>A/5 21171</td>\n",
       "      <td>7.2500</td>\n",
       "      <td>NaN</td>\n",
       "      <td>S</td>\n",
       "    </tr>\n",
       "    <tr>\n",
       "      <th>1</th>\n",
       "      <td>2</td>\n",
       "      <td>1</td>\n",
       "      <td>1</td>\n",
       "      <td>Cumings, Mrs. John Bradley (Florence Briggs Th...</td>\n",
       "      <td>female</td>\n",
       "      <td>38.0</td>\n",
       "      <td>1</td>\n",
       "      <td>0</td>\n",
       "      <td>PC 17599</td>\n",
       "      <td>71.2833</td>\n",
       "      <td>C85</td>\n",
       "      <td>C</td>\n",
       "    </tr>\n",
       "    <tr>\n",
       "      <th>2</th>\n",
       "      <td>3</td>\n",
       "      <td>1</td>\n",
       "      <td>3</td>\n",
       "      <td>Heikkinen, Miss. Laina</td>\n",
       "      <td>female</td>\n",
       "      <td>26.0</td>\n",
       "      <td>0</td>\n",
       "      <td>0</td>\n",
       "      <td>STON/O2. 3101282</td>\n",
       "      <td>7.9250</td>\n",
       "      <td>NaN</td>\n",
       "      <td>S</td>\n",
       "    </tr>\n",
       "    <tr>\n",
       "      <th>3</th>\n",
       "      <td>4</td>\n",
       "      <td>1</td>\n",
       "      <td>1</td>\n",
       "      <td>Futrelle, Mrs. Jacques Heath (Lily May Peel)</td>\n",
       "      <td>female</td>\n",
       "      <td>35.0</td>\n",
       "      <td>1</td>\n",
       "      <td>0</td>\n",
       "      <td>113803</td>\n",
       "      <td>53.1000</td>\n",
       "      <td>C123</td>\n",
       "      <td>S</td>\n",
       "    </tr>\n",
       "    <tr>\n",
       "      <th>4</th>\n",
       "      <td>5</td>\n",
       "      <td>0</td>\n",
       "      <td>3</td>\n",
       "      <td>Allen, Mr. William Henry</td>\n",
       "      <td>male</td>\n",
       "      <td>35.0</td>\n",
       "      <td>0</td>\n",
       "      <td>0</td>\n",
       "      <td>373450</td>\n",
       "      <td>8.0500</td>\n",
       "      <td>NaN</td>\n",
       "      <td>S</td>\n",
       "    </tr>\n",
       "  </tbody>\n",
       "</table>\n",
       "</div>"
      ],
      "text/plain": [
       "   PassengerId  Survived  Pclass  \\\n",
       "0            1         0       3   \n",
       "1            2         1       1   \n",
       "2            3         1       3   \n",
       "3            4         1       1   \n",
       "4            5         0       3   \n",
       "\n",
       "                                                Name     Sex   Age  SibSp  \\\n",
       "0                            Braund, Mr. Owen Harris    male  22.0      1   \n",
       "1  Cumings, Mrs. John Bradley (Florence Briggs Th...  female  38.0      1   \n",
       "2                             Heikkinen, Miss. Laina  female  26.0      0   \n",
       "3       Futrelle, Mrs. Jacques Heath (Lily May Peel)  female  35.0      1   \n",
       "4                           Allen, Mr. William Henry    male  35.0      0   \n",
       "\n",
       "   Parch            Ticket     Fare Cabin Embarked  \n",
       "0      0         A/5 21171   7.2500   NaN        S  \n",
       "1      0          PC 17599  71.2833   C85        C  \n",
       "2      0  STON/O2. 3101282   7.9250   NaN        S  \n",
       "3      0            113803  53.1000  C123        S  \n",
       "4      0            373450   8.0500   NaN        S  "
      ]
     },
     "execution_count": 7,
     "metadata": {},
     "output_type": "execute_result"
    }
   ],
   "source": [
    "train.head()"
   ]
  },
  {
   "cell_type": "code",
   "execution_count": 8,
   "id": "a882ab2d",
   "metadata": {},
   "outputs": [
    {
     "data": {
      "text/html": [
       "<div>\n",
       "<style scoped>\n",
       "    .dataframe tbody tr th:only-of-type {\n",
       "        vertical-align: middle;\n",
       "    }\n",
       "\n",
       "    .dataframe tbody tr th {\n",
       "        vertical-align: top;\n",
       "    }\n",
       "\n",
       "    .dataframe thead th {\n",
       "        text-align: right;\n",
       "    }\n",
       "</style>\n",
       "<table border=\"1\" class=\"dataframe\">\n",
       "  <thead>\n",
       "    <tr style=\"text-align: right;\">\n",
       "      <th></th>\n",
       "      <th>PassengerId</th>\n",
       "      <th>Pclass</th>\n",
       "      <th>Name</th>\n",
       "      <th>Sex</th>\n",
       "      <th>Age</th>\n",
       "      <th>SibSp</th>\n",
       "      <th>Parch</th>\n",
       "      <th>Ticket</th>\n",
       "      <th>Fare</th>\n",
       "      <th>Cabin</th>\n",
       "      <th>Embarked</th>\n",
       "    </tr>\n",
       "  </thead>\n",
       "  <tbody>\n",
       "    <tr>\n",
       "      <th>0</th>\n",
       "      <td>892</td>\n",
       "      <td>3</td>\n",
       "      <td>Kelly, Mr. James</td>\n",
       "      <td>male</td>\n",
       "      <td>34.5</td>\n",
       "      <td>0</td>\n",
       "      <td>0</td>\n",
       "      <td>330911</td>\n",
       "      <td>7.8292</td>\n",
       "      <td>NaN</td>\n",
       "      <td>Q</td>\n",
       "    </tr>\n",
       "    <tr>\n",
       "      <th>1</th>\n",
       "      <td>893</td>\n",
       "      <td>3</td>\n",
       "      <td>Wilkes, Mrs. James (Ellen Needs)</td>\n",
       "      <td>female</td>\n",
       "      <td>47.0</td>\n",
       "      <td>1</td>\n",
       "      <td>0</td>\n",
       "      <td>363272</td>\n",
       "      <td>7.0000</td>\n",
       "      <td>NaN</td>\n",
       "      <td>S</td>\n",
       "    </tr>\n",
       "    <tr>\n",
       "      <th>2</th>\n",
       "      <td>894</td>\n",
       "      <td>2</td>\n",
       "      <td>Myles, Mr. Thomas Francis</td>\n",
       "      <td>male</td>\n",
       "      <td>62.0</td>\n",
       "      <td>0</td>\n",
       "      <td>0</td>\n",
       "      <td>240276</td>\n",
       "      <td>9.6875</td>\n",
       "      <td>NaN</td>\n",
       "      <td>Q</td>\n",
       "    </tr>\n",
       "    <tr>\n",
       "      <th>3</th>\n",
       "      <td>895</td>\n",
       "      <td>3</td>\n",
       "      <td>Wirz, Mr. Albert</td>\n",
       "      <td>male</td>\n",
       "      <td>27.0</td>\n",
       "      <td>0</td>\n",
       "      <td>0</td>\n",
       "      <td>315154</td>\n",
       "      <td>8.6625</td>\n",
       "      <td>NaN</td>\n",
       "      <td>S</td>\n",
       "    </tr>\n",
       "    <tr>\n",
       "      <th>4</th>\n",
       "      <td>896</td>\n",
       "      <td>3</td>\n",
       "      <td>Hirvonen, Mrs. Alexander (Helga E Lindqvist)</td>\n",
       "      <td>female</td>\n",
       "      <td>22.0</td>\n",
       "      <td>1</td>\n",
       "      <td>1</td>\n",
       "      <td>3101298</td>\n",
       "      <td>12.2875</td>\n",
       "      <td>NaN</td>\n",
       "      <td>S</td>\n",
       "    </tr>\n",
       "  </tbody>\n",
       "</table>\n",
       "</div>"
      ],
      "text/plain": [
       "   PassengerId  Pclass                                          Name     Sex  \\\n",
       "0          892       3                              Kelly, Mr. James    male   \n",
       "1          893       3              Wilkes, Mrs. James (Ellen Needs)  female   \n",
       "2          894       2                     Myles, Mr. Thomas Francis    male   \n",
       "3          895       3                              Wirz, Mr. Albert    male   \n",
       "4          896       3  Hirvonen, Mrs. Alexander (Helga E Lindqvist)  female   \n",
       "\n",
       "    Age  SibSp  Parch   Ticket     Fare Cabin Embarked  \n",
       "0  34.5      0      0   330911   7.8292   NaN        Q  \n",
       "1  47.0      1      0   363272   7.0000   NaN        S  \n",
       "2  62.0      0      0   240276   9.6875   NaN        Q  \n",
       "3  27.0      0      0   315154   8.6625   NaN        S  \n",
       "4  22.0      1      1  3101298  12.2875   NaN        S  "
      ]
     },
     "execution_count": 8,
     "metadata": {},
     "output_type": "execute_result"
    }
   ],
   "source": [
    "test.head()"
   ]
  },
  {
   "cell_type": "markdown",
   "id": "df4fb599",
   "metadata": {},
   "source": [
    "### Step 1=> Data cleaning / Handling missing values\n",
    "### Step 2=> Data Visualization\n",
    "### Step 3=> Data Preprocessing\n",
    "#### We will perform above mentioned three steps parallelly. we'll visualize the data using different graphs and also perform preprocessing on the training and test data simultaneously. "
   ]
  },
  {
   "cell_type": "code",
   "execution_count": 9,
   "id": "a7e5d70e",
   "metadata": {},
   "outputs": [],
   "source": [
    "# Lets remove the feature 'PassengerId' which is not significant in the datasets\n",
    "train.drop(['PassengerId'], axis=1, inplace=True)\n",
    "test.drop(['PassengerId'], axis=1, inplace=True)"
   ]
  },
  {
   "cell_type": "code",
   "execution_count": 10,
   "id": "34c11b62",
   "metadata": {},
   "outputs": [
    {
     "data": {
      "text/plain": [
       "Survived      0\n",
       "Pclass        0\n",
       "Name          0\n",
       "Sex           0\n",
       "Age         177\n",
       "SibSp         0\n",
       "Parch         0\n",
       "Ticket        0\n",
       "Fare          0\n",
       "Cabin       687\n",
       "Embarked      2\n",
       "dtype: int64"
      ]
     },
     "execution_count": 10,
     "metadata": {},
     "output_type": "execute_result"
    }
   ],
   "source": [
    "#Lets check the null values in the training dataset.\n",
    "train.isnull().sum()"
   ]
  },
  {
   "cell_type": "code",
   "execution_count": 11,
   "id": "e52d20fe",
   "metadata": {},
   "outputs": [
    {
     "data": {
      "text/plain": [
       "Pclass        0\n",
       "Name          0\n",
       "Sex           0\n",
       "Age          86\n",
       "SibSp         0\n",
       "Parch         0\n",
       "Ticket        0\n",
       "Fare          1\n",
       "Cabin       327\n",
       "Embarked      0\n",
       "dtype: int64"
      ]
     },
     "execution_count": 11,
     "metadata": {},
     "output_type": "execute_result"
    }
   ],
   "source": [
    "#check the null values in the testing dataset.\n",
    "test.isnull().sum()"
   ]
  },
  {
   "cell_type": "markdown",
   "id": "bbb742c1",
   "metadata": {},
   "source": [
    "##### This is the list of our missing values from the training and test set. Lets now look at all the features one by one in our training and testing datasets. "
   ]
  },
  {
   "cell_type": "markdown",
   "id": "e7070c4c",
   "metadata": {},
   "source": [
    "### 1. Sex"
   ]
  },
  {
   "cell_type": "code",
   "execution_count": 13,
   "id": "72d8dc1f",
   "metadata": {},
   "outputs": [
    {
     "data": {
      "text/plain": [
       "<AxesSubplot:xlabel='Sex', ylabel='count'>"
      ]
     },
     "execution_count": 13,
     "metadata": {},
     "output_type": "execute_result"
    },
    {
     "data": {
      "image/png": "[encoded data removed]",
      "text/plain": [
       "<Figure size 576x360 with 1 Axes>"
      ]
     },
     "metadata": {
      "needs_background": "light"
     },
     "output_type": "display_data"
    }
   ],
   "source": [
    "plt.figure(figsize=(8,5))\n",
    "sns.set_style(\"whitegrid\")\n",
    "sns.countplot(x= 'Sex', hue='Survived', data=train_data, palette='rainbow')"
   ]
  },
  {
   "cell_type": "markdown",
   "id": "8740f0bd",
   "metadata": {},
   "source": [
    "#### 'Sex' is a categorical data (male or female). Now, we'll convert this categorical data into numberical data. We'll use get_dummies() function to convert 'Sex' column and make two dummy columns of female and male"
   ]
  },
  {
   "cell_type": "code",
   "execution_count": 14,
   "id": "8742db84",
   "metadata": {},
   "outputs": [],
   "source": [
    "sex1 = pd.get_dummies(train['Sex'])\n",
    "sex2 = pd.get_dummies(test['Sex'])\n",
    "\n",
    "train.drop(['Sex'], axis=1, inplace=True)\n",
    "test.drop(['Sex'], axis=1, inplace=True)\n",
    "\n",
    "train = pd.concat([train,sex1], axis=1)\n",
    "test = pd.concat([test,sex2], axis=1)"
   ]
  },
  {
   "cell_type": "markdown",
   "id": "fa3719e3",
   "metadata": {},
   "source": [
    "#### Lets now remove one column as we get all the necessary information from other one"
   ]
  },
  {
   "cell_type": "code",
   "execution_count": 15,
   "id": "3d64b41c",
   "metadata": {},
   "outputs": [],
   "source": [
    "train.drop(['female'], axis=1, inplace=True)\n",
    "test.drop(['female'], axis=1, inplace=True)"
   ]
  },
  {
   "cell_type": "code",
   "execution_count": 16,
   "id": "1d1cfe6b",
   "metadata": {},
   "outputs": [
    {
     "data": {
      "text/html": [
       "<div>\n",
       "<style scoped>\n",
       "    .dataframe tbody tr th:only-of-type {\n",
       "        vertical-align: middle;\n",
       "    }\n",
       "\n",
       "    .dataframe tbody tr th {\n",
       "        vertical-align: top;\n",
       "    }\n",
       "\n",
       "    .dataframe thead th {\n",
       "        text-align: right;\n",
       "    }\n",
       "</style>\n",
       "<table border=\"1\" class=\"dataframe\">\n",
       "  <thead>\n",
       "    <tr style=\"text-align: right;\">\n",
       "      <th></th>\n",
       "      <th>Survived</th>\n",
       "      <th>Pclass</th>\n",
       "      <th>Name</th>\n",
       "      <th>Age</th>\n",
       "      <th>SibSp</th>\n",
       "      <th>Parch</th>\n",
       "      <th>Ticket</th>\n",
       "      <th>Fare</th>\n",
       "      <th>Cabin</th>\n",
       "      <th>Embarked</th>\n",
       "      <th>male</th>\n",
       "    </tr>\n",
       "  </thead>\n",
       "  <tbody>\n",
       "    <tr>\n",
       "      <th>0</th>\n",
       "      <td>0</td>\n",
       "      <td>3</td>\n",
       "      <td>Braund, Mr. Owen Harris</td>\n",
       "      <td>22.0</td>\n",
       "      <td>1</td>\n",
       "      <td>0</td>\n",
       "      <td>A/5 21171</td>\n",
       "      <td>7.2500</td>\n",
       "      <td>NaN</td>\n",
       "      <td>S</td>\n",
       "      <td>1</td>\n",
       "    </tr>\n",
       "    <tr>\n",
       "      <th>1</th>\n",
       "      <td>1</td>\n",
       "      <td>1</td>\n",
       "      <td>Cumings, Mrs. John Bradley (Florence Briggs Th...</td>\n",
       "      <td>38.0</td>\n",
       "      <td>1</td>\n",
       "      <td>0</td>\n",
       "      <td>PC 17599</td>\n",
       "      <td>71.2833</td>\n",
       "      <td>C85</td>\n",
       "      <td>C</td>\n",
       "      <td>0</td>\n",
       "    </tr>\n",
       "    <tr>\n",
       "      <th>2</th>\n",
       "      <td>1</td>\n",
       "      <td>3</td>\n",
       "      <td>Heikkinen, Miss. Laina</td>\n",
       "      <td>26.0</td>\n",
       "      <td>0</td>\n",
       "      <td>0</td>\n",
       "      <td>STON/O2. 3101282</td>\n",
       "      <td>7.9250</td>\n",
       "      <td>NaN</td>\n",
       "      <td>S</td>\n",
       "      <td>0</td>\n",
       "    </tr>\n",
       "    <tr>\n",
       "      <th>3</th>\n",
       "      <td>1</td>\n",
       "      <td>1</td>\n",
       "      <td>Futrelle, Mrs. Jacques Heath (Lily May Peel)</td>\n",
       "      <td>35.0</td>\n",
       "      <td>1</td>\n",
       "      <td>0</td>\n",
       "      <td>113803</td>\n",
       "      <td>53.1000</td>\n",
       "      <td>C123</td>\n",
       "      <td>S</td>\n",
       "      <td>0</td>\n",
       "    </tr>\n",
       "    <tr>\n",
       "      <th>4</th>\n",
       "      <td>0</td>\n",
       "      <td>3</td>\n",
       "      <td>Allen, Mr. William Henry</td>\n",
       "      <td>35.0</td>\n",
       "      <td>0</td>\n",
       "      <td>0</td>\n",
       "      <td>373450</td>\n",
       "      <td>8.0500</td>\n",
       "      <td>NaN</td>\n",
       "      <td>S</td>\n",
       "      <td>1</td>\n",
       "    </tr>\n",
       "  </tbody>\n",
       "</table>\n",
       "</div>"
      ],
      "text/plain": [
       "   Survived  Pclass                                               Name   Age  \\\n",
       "0         0       3                            Braund, Mr. Owen Harris  22.0   \n",
       "1         1       1  Cumings, Mrs. John Bradley (Florence Briggs Th...  38.0   \n",
       "2         1       3                             Heikkinen, Miss. Laina  26.0   \n",
       "3         1       1       Futrelle, Mrs. Jacques Heath (Lily May Peel)  35.0   \n",
       "4         0       3                           Allen, Mr. William Henry  35.0   \n",
       "\n",
       "   SibSp  Parch            Ticket     Fare Cabin Embarked  male  \n",
       "0      1      0         A/5 21171   7.2500   NaN        S     1  \n",
       "1      1      0          PC 17599  71.2833   C85        C     0  \n",
       "2      0      0  STON/O2. 3101282   7.9250   NaN        S     0  \n",
       "3      1      0            113803  53.1000  C123        S     0  \n",
       "4      0      0            373450   8.0500   NaN        S     1  "
      ]
     },
     "execution_count": 16,
     "metadata": {},
     "output_type": "execute_result"
    }
   ],
   "source": [
    "train.head()"
   ]
  },
  {
   "cell_type": "code",
   "execution_count": 17,
   "id": "e53a26e4",
   "metadata": {},
   "outputs": [
    {
     "data": {
      "text/html": [
       "<div>\n",
       "<style scoped>\n",
       "    .dataframe tbody tr th:only-of-type {\n",
       "        vertical-align: middle;\n",
       "    }\n",
       "\n",
       "    .dataframe tbody tr th {\n",
       "        vertical-align: top;\n",
       "    }\n",
       "\n",
       "    .dataframe thead th {\n",
       "        text-align: right;\n",
       "    }\n",
       "</style>\n",
       "<table border=\"1\" class=\"dataframe\">\n",
       "  <thead>\n",
       "    <tr style=\"text-align: right;\">\n",
       "      <th></th>\n",
       "      <th>Pclass</th>\n",
       "      <th>Name</th>\n",
       "      <th>Age</th>\n",
       "      <th>SibSp</th>\n",
       "      <th>Parch</th>\n",
       "      <th>Ticket</th>\n",
       "      <th>Fare</th>\n",
       "      <th>Cabin</th>\n",
       "      <th>Embarked</th>\n",
       "      <th>male</th>\n",
       "    </tr>\n",
       "  </thead>\n",
       "  <tbody>\n",
       "    <tr>\n",
       "      <th>0</th>\n",
       "      <td>3</td>\n",
       "      <td>Kelly, Mr. James</td>\n",
       "      <td>34.5</td>\n",
       "      <td>0</td>\n",
       "      <td>0</td>\n",
       "      <td>330911</td>\n",
       "      <td>7.8292</td>\n",
       "      <td>NaN</td>\n",
       "      <td>Q</td>\n",
       "      <td>1</td>\n",
       "    </tr>\n",
       "    <tr>\n",
       "      <th>1</th>\n",
       "      <td>3</td>\n",
       "      <td>Wilkes, Mrs. James (Ellen Needs)</td>\n",
       "      <td>47.0</td>\n",
       "      <td>1</td>\n",
       "      <td>0</td>\n",
       "      <td>363272</td>\n",
       "      <td>7.0000</td>\n",
       "      <td>NaN</td>\n",
       "      <td>S</td>\n",
       "      <td>0</td>\n",
       "    </tr>\n",
       "    <tr>\n",
       "      <th>2</th>\n",
       "      <td>2</td>\n",
       "      <td>Myles, Mr. Thomas Francis</td>\n",
       "      <td>62.0</td>\n",
       "      <td>0</td>\n",
       "      <td>0</td>\n",
       "      <td>240276</td>\n",
       "      <td>9.6875</td>\n",
       "      <td>NaN</td>\n",
       "      <td>Q</td>\n",
       "      <td>1</td>\n",
       "    </tr>\n",
       "    <tr>\n",
       "      <th>3</th>\n",
       "      <td>3</td>\n",
       "      <td>Wirz, Mr. Albert</td>\n",
       "      <td>27.0</td>\n",
       "      <td>0</td>\n",
       "      <td>0</td>\n",
       "      <td>315154</td>\n",
       "      <td>8.6625</td>\n",
       "      <td>NaN</td>\n",
       "      <td>S</td>\n",
       "      <td>1</td>\n",
       "    </tr>\n",
       "    <tr>\n",
       "      <th>4</th>\n",
       "      <td>3</td>\n",
       "      <td>Hirvonen, Mrs. Alexander (Helga E Lindqvist)</td>\n",
       "      <td>22.0</td>\n",
       "      <td>1</td>\n",
       "      <td>1</td>\n",
       "      <td>3101298</td>\n",
       "      <td>12.2875</td>\n",
       "      <td>NaN</td>\n",
       "      <td>S</td>\n",
       "      <td>0</td>\n",
       "    </tr>\n",
       "  </tbody>\n",
       "</table>\n",
       "</div>"
      ],
      "text/plain": [
       "   Pclass                                          Name   Age  SibSp  Parch  \\\n",
       "0       3                              Kelly, Mr. James  34.5      0      0   \n",
       "1       3              Wilkes, Mrs. James (Ellen Needs)  47.0      1      0   \n",
       "2       2                     Myles, Mr. Thomas Francis  62.0      0      0   \n",
       "3       3                              Wirz, Mr. Albert  27.0      0      0   \n",
       "4       3  Hirvonen, Mrs. Alexander (Helga E Lindqvist)  22.0      1      1   \n",
       "\n",
       "    Ticket     Fare Cabin Embarked  male  \n",
       "0   330911   7.8292   NaN        Q     1  \n",
       "1   363272   7.0000   NaN        S     0  \n",
       "2   240276   9.6875   NaN        Q     1  \n",
       "3   315154   8.6625   NaN        S     1  \n",
       "4  3101298  12.2875   NaN        S     0  "
      ]
     },
     "execution_count": 17,
     "metadata": {},
     "output_type": "execute_result"
    }
   ],
   "source": [
    "test.head()"
   ]
  },
  {
   "cell_type": "markdown",
   "id": "eda7145f",
   "metadata": {},
   "source": [
    "### 2. Pclass"
   ]
  },
  {
   "cell_type": "code",
   "execution_count": 18,
   "id": "99683320",
   "metadata": {},
   "outputs": [
    {
     "data": {
      "text/plain": [
       "<AxesSubplot:xlabel='Pclass', ylabel='Age'>"
      ]
     },
     "execution_count": 18,
     "metadata": {},
     "output_type": "execute_result"
    },
    {
     "data": {
      "image/png": "[encoded data removed]",
      "text/plain": [
       "<Figure size 720x648 with 1 Axes>"
      ]
     },
     "metadata": {},
     "output_type": "display_data"
    }
   ],
   "source": [
    "plt.figure(figsize=(10,9))\n",
    "sns.boxplot(x='Pclass', y='Age', data=train_data, palette='rainbow')"
   ]
  },
  {
   "cell_type": "code",
   "execution_count": 19,
   "id": "f99256ef",
   "metadata": {},
   "outputs": [
    {
     "data": {
      "text/plain": [
       "<AxesSubplot:xlabel='Pclass', ylabel='count'>"
      ]
     },
     "execution_count": 19,
     "metadata": {},
     "output_type": "execute_result"
    },
    {
     "data": {
      "image/png": "[encoded data removed]",
      "text/plain": [
       "<Figure size 576x360 with 1 Axes>"
      ]
     },
     "metadata": {},
     "output_type": "display_data"
    }
   ],
   "source": [
    "plt.figure(figsize=(8,5))\n",
    "sns.set_style(\"whitegrid\")\n",
    "sns.countplot(x='Pclass', hue='Survived', data=train_data, palette='deep')"
   ]
  },
  {
   "cell_type": "markdown",
   "id": "b57e9dc0",
   "metadata": {},
   "source": [
    "#### Here, from above plot we can see that people from higher class (1 being highest) had better chance of survival"
   ]
  },
  {
   "cell_type": "markdown",
   "id": "c95a1318",
   "metadata": {},
   "source": [
    "### 3. Age"
   ]
  },
  {
   "cell_type": "code",
   "execution_count": 20,
   "id": "fde7ebd3",
   "metadata": {},
   "outputs": [
    {
     "data": {
      "text/plain": [
       "Text(0, 0.5, 'Density')"
      ]
     },
     "execution_count": 20,
     "metadata": {},
     "output_type": "execute_result"
    },
    {
     "data": {
      "image/png": "[encoded data removed]",
      "text/plain": [
       "<Figure size 1152x360 with 1 Axes>"
      ]
     },
     "metadata": {},
     "output_type": "display_data"
    }
   ],
   "source": [
    "plt.figure(figsize=(16,5))\n",
    "for x in [1,2,3]: #for 3 classes\n",
    "    sns.kdeplot(data=train_data.Age[train_data.Pclass==x], cut=0, clip=(0,200)).grid(False)\n",
    "plt.title(\"Age vs Pclass\")\n",
    "plt.legend((\"1st\",\"2nd\",\"3rd\"))\n",
    "plt.xlabel(\"Age\")\n",
    "plt.ylabel(\"Density\")"
   ]
  },
  {
   "cell_type": "markdown",
   "id": "0ba9cecb",
   "metadata": {},
   "source": [
    "This graph shows the density of people who belong to the 3 classes along w.r.t. age."
   ]
  },
  {
   "cell_type": "markdown",
   "id": "9e2db3f5",
   "metadata": {},
   "source": [
    "#### The missing values have to be filled with median value"
   ]
  },
  {
   "cell_type": "code",
   "execution_count": 21,
   "id": "51f3a5dc",
   "metadata": {},
   "outputs": [
    {
     "data": {
      "text/plain": [
       "count    714.000000\n",
       "mean      29.699118\n",
       "std       14.526497\n",
       "min        0.420000\n",
       "25%       20.125000\n",
       "50%       28.000000\n",
       "75%       38.000000\n",
       "max       80.000000\n",
       "Name: Age, dtype: float64"
      ]
     },
     "execution_count": 21,
     "metadata": {},
     "output_type": "execute_result"
    }
   ],
   "source": [
    "train['Age'].describe()"
   ]
  },
  {
   "cell_type": "markdown",
   "id": "2048f42d",
   "metadata": {},
   "source": [
    "##### Out of these values '50%' gives median value"
   ]
  },
  {
   "cell_type": "code",
   "execution_count": 23,
   "id": "1f7a31d7",
   "metadata": {},
   "outputs": [],
   "source": [
    "train['Age'].fillna(train['Age'].describe().loc[['50%']][0], inplace=True)\n",
    "test['Age'].fillna(test['Age'].describe().loc[['50%']][0], inplace=True)"
   ]
  },
  {
   "cell_type": "markdown",
   "id": "7f62dbbf",
   "metadata": {},
   "source": [
    "### 4. Fare\n",
    "#### \"Fare\" column tells us about the amount of money paid by the passengers."
   ]
  },
  {
   "cell_type": "code",
   "execution_count": 27,
   "id": "09b51874",
   "metadata": {},
   "outputs": [
    {
     "name": "stderr",
     "output_type": "stream",
     "text": [
      "C:\\Users\\Farhana\\anaconda3\\lib\\site-packages\\seaborn\\distributions.py:2557: FutureWarning: `distplot` is a deprecated function and will be removed in a future version. Please adapt your code to use either `displot` (a figure-level function with similar flexibility) or `histplot` (an axes-level function for histograms).\n",
      "  warnings.warn(msg, FutureWarning)\n"
     ]
    },
    {
     "data": {
      "text/plain": [
       "Text(0.5, 1.0, 'Fare distribution for all the passengers')"
      ]
     },
     "execution_count": 27,
     "metadata": {},
     "output_type": "execute_result"
    },
    {
     "data": {
      "image/png": "[encoded data removed]",
      "text/plain": [
       "<Figure size 1152x360 with 1 Axes>"
      ]
     },
     "metadata": {},
     "output_type": "display_data"
    }
   ],
   "source": [
    "f, axes = plt.subplots(1, 1, figsize = (16,5))\n",
    "sns.distplot(train['Fare'], color='orange', ax=axes)\n",
    "plt.title(\"Fare distribution for all the passengers\")"
   ]
  },
  {
   "cell_type": "markdown",
   "id": "95d5b4d6",
   "metadata": {},
   "source": [
    "#### Lets now separate the passengers who did survive and not survive based on 'Fare'"
   ]
  },
  {
   "cell_type": "code",
   "execution_count": 28,
   "id": "621919e7",
   "metadata": {},
   "outputs": [],
   "source": [
    "Fare_0 = []\n",
    "Fare_1 = []\n",
    "for i in range(0,891):\n",
    "    if train_data['Survived'][i]==0:\n",
    "        Fare_0.append(train['Fare'][i])\n",
    "    else:\n",
    "        Fare_1.append(train['Fare'][i])"
   ]
  },
  {
   "cell_type": "code",
   "execution_count": 29,
   "id": "1a7560f9",
   "metadata": {},
   "outputs": [
    {
     "name": "stderr",
     "output_type": "stream",
     "text": [
      "C:\\Users\\Farhana\\anaconda3\\lib\\site-packages\\seaborn\\distributions.py:2557: FutureWarning: `distplot` is a deprecated function and will be removed in a future version. Please adapt your code to use either `displot` (a figure-level function with similar flexibility) or `histplot` (an axes-level function for histograms).\n",
      "  warnings.warn(msg, FutureWarning)\n",
      "C:\\Users\\Farhana\\anaconda3\\lib\\site-packages\\seaborn\\distributions.py:2557: FutureWarning: `distplot` is a deprecated function and will be removed in a future version. Please adapt your code to use either `displot` (a figure-level function with similar flexibility) or `histplot` (an axes-level function for histograms).\n",
      "  warnings.warn(msg, FutureWarning)\n"
     ]
    },
    {
     "data": {
      "image/png": "[encoded data removed]",
      "text/plain": [
       "<Figure size 1152x360 with 1 Axes>"
      ]
     },
     "metadata": {},
     "output_type": "display_data"
    },
    {
     "data": {
      "image/png": "[encoded data removed]",
      "text/plain": [
       "<Figure size 1152x360 with 1 Axes>"
      ]
     },
     "metadata": {},
     "output_type": "display_data"
    }
   ],
   "source": [
    "f,axes = plt.subplots(1, 1, figsize = (16,5))\n",
    "sns.distplot(Fare_0, color='red', ax=axes)\n",
    "plt.title(\"Fare for all the passengers who did not survive\")\n",
    "\n",
    "f,axes = plt.subplots(1, 1, figsize = (16,5))\n",
    "sns.distplot(Fare_1, color='blue', ax=axes)\n",
    "plt.title(\"Fare for all the passengers who survived\")\n",
    "\n",
    "plt.show()"
   ]
  },
  {
   "cell_type": "markdown",
   "id": "6632d6b5",
   "metadata": {},
   "source": [
    "#### Here we can see that passengers had a greater probability of surviving if they had payed more."
   ]
  },
  {
   "cell_type": "markdown",
   "id": "b78668aa",
   "metadata": {},
   "source": [
    "####  'Fare' column in test dataset has one missing value. lets fill it with median value"
   ]
  },
  {
   "cell_type": "code",
   "execution_count": 31,
   "id": "3ad0dfc9",
   "metadata": {},
   "outputs": [],
   "source": [
    "test['Fare'].fillna(test['Fare'].describe().loc[['50%']][0], inplace=True)"
   ]
  },
  {
   "cell_type": "markdown",
   "id": "42024c51",
   "metadata": {},
   "source": [
    "### 5. Embarked\n",
    "#### This column holds the embarkation records for all the passengers. They stand for:\n",
    "    S - Southampton\n",
    "    C - Cherbourg\n",
    "    Q - Queenstown"
   ]
  },
  {
   "cell_type": "code",
   "execution_count": 32,
   "id": "b04600ca",
   "metadata": {},
   "outputs": [
    {
     "data": {
      "text/plain": [
       "<AxesSubplot:xlabel='Embarked', ylabel='count'>"
      ]
     },
     "execution_count": 32,
     "metadata": {},
     "output_type": "execute_result"
    },
    {
     "data": {
      "image/png": "[encoded data removed]",
      "text/plain": [
       "<Figure size 576x360 with 1 Axes>"
      ]
     },
     "metadata": {},
     "output_type": "display_data"
    }
   ],
   "source": [
    "plt.figure(figsize = (8,5))\n",
    "sns.set_style('whitegrid')\n",
    "sns.countplot(x='Embarked', hue='Survived', data=train_data, palette='Set2')"
   ]
  },
  {
   "cell_type": "code",
   "execution_count": 33,
   "id": "5f852879",
   "metadata": {},
   "outputs": [],
   "source": [
    "train['Embarked'].fillna('S', inplace=True)\n",
    "test['Embarked'].fillna('S',inplace=True)"
   ]
  },
  {
   "cell_type": "markdown",
   "id": "287e0912",
   "metadata": {},
   "source": [
    "#### Filling the missing values with 'S' as it is the most frequently occuring value\n",
    "\n",
    "#### Lets now convert the categorical data into numerical data using get_dummies() function"
   ]
  },
  {
   "cell_type": "code",
   "execution_count": 34,
   "id": "d445dccc",
   "metadata": {},
   "outputs": [],
   "source": [
    "embark1 = pd.get_dummies(train['Embarked'])\n",
    "embark2 = pd.get_dummies(test['Embarked'])\n",
    "\n",
    "train.drop(['Embarked'], axis=1, inplace=True)\n",
    "test.drop(['Embarked'],axis=1, inplace=True)\n",
    "\n",
    "train = pd.concat([train, embark1], axis=1)\n",
    "test = pd.concat([test,embark2], axis=1)"
   ]
  },
  {
   "cell_type": "markdown",
   "id": "bc212101",
   "metadata": {},
   "source": [
    "### 6.SibSp and Parch\n",
    "##### SibSp tells us about the passengers' siblings and spouse.\n",
    "##### Parch tells us about the passengers' parents and children"
   ]
  },
  {
   "cell_type": "code",
   "execution_count": 35,
   "id": "56f6ca5b",
   "metadata": {},
   "outputs": [
    {
     "data": {
      "image/png": "[encoded data removed]",
      "text/plain": [
       "<Figure size 1008x432 with 1 Axes>"
      ]
     },
     "metadata": {},
     "output_type": "display_data"
    },
    {
     "data": {
      "image/png": "[encoded data removed]",
      "text/plain": [
       "<Figure size 1008x432 with 1 Axes>"
      ]
     },
     "metadata": {},
     "output_type": "display_data"
    }
   ],
   "source": [
    "plt.figure(figsize = (14,6))\n",
    "sns.countplot(y='Survived', hue='SibSp', data=train, color='Orange')\n",
    "\n",
    "plt.figure(figsize = (14,6))\n",
    "sns.countplot(y='Survived', hue='Parch', data=train, color=\"Green\")\n",
    "\n",
    "plt.show()"
   ]
  },
  {
   "cell_type": "code",
   "execution_count": 36,
   "id": "c576b2a1",
   "metadata": {},
   "outputs": [],
   "source": [
    "def fam(x):\n",
    "    if (x['SibSp']+x['Parch'])>0:\n",
    "        return 1\n",
    "    else:\n",
    "        return 0\n",
    "    \n",
    "train['Family'] = train.apply(fam, axis=1)\n",
    "test['Family'] = test.apply(fam, axis=1)"
   ]
  },
  {
   "cell_type": "code",
   "execution_count": 38,
   "id": "028d2d0f",
   "metadata": {},
   "outputs": [],
   "source": [
    "train = train.drop(['SibSp','Parch'], axis=1)\n",
    "test = test.drop(['SibSp','Parch'], axis=1)"
   ]
  },
  {
   "cell_type": "markdown",
   "id": "cd6af6d6",
   "metadata": {},
   "source": [
    "##### The SibSp and Parch column were not giving any valuable information/trend that could have helped in getting accurate prediction, hence they were combined. \n",
    "##### Lets now determine whether the passenger has a family or not."
   ]
  },
  {
   "cell_type": "code",
   "execution_count": 39,
   "id": "44c9dbab",
   "metadata": {},
   "outputs": [
    {
     "data": {
      "text/plain": [
       "<matplotlib.legend.Legend at 0x2de0fac84c0>"
      ]
     },
     "execution_count": 39,
     "metadata": {},
     "output_type": "execute_result"
    },
    {
     "data": {
      "image/png": "[encoded data removed]",
      "text/plain": [
       "<Figure size 432x432 with 1 Axes>"
      ]
     },
     "metadata": {},
     "output_type": "display_data"
    }
   ],
   "source": [
    "plt.figure(figsize = (6,6))\n",
    "sns.set_style('whitegrid')\n",
    "sns.countplot(x='Family', hue='Survived', data=train, palette=\"YlOrBr\")\n",
    "plt.legend((\"Not Survived\",\"Survived\"))"
   ]
  },
  {
   "cell_type": "markdown",
   "id": "52a8c14e",
   "metadata": {},
   "source": [
    "##### Here we can see that a passenger having no family had a lesser chance of survival."
   ]
  },
  {
   "cell_type": "markdown",
   "id": "78810b12",
   "metadata": {},
   "source": [
    "### 7. Cabin\n",
    "#### \"Cabin\" is an interesting column telling us about the cabin which was occupied by the passenger."
   ]
  },
  {
   "cell_type": "code",
   "execution_count": null,
   "id": "15602d97",
   "metadata": {},
   "outputs": [],
   "source": [
    "train['Cabin'] = pd.Series(i[0] if not pd.isnull(i) else 'X' for i in train['Cabin'])\n",
    "test['Cabin'] = pd.Series(i[0] if not pd.isnull(i) else 'X' for in test['Cabin'])"
   ]
  },
  {
   "cell_type": "markdown",
   "id": "441c558e",
   "metadata": {},
   "source": [
    "##### Here we are taking the prefix values of the cabin number. The missing values will be replaced with 'X'."
   ]
  },
  {
   "cell_type": "code",
   "execution_count": null,
   "id": "b8c4a604",
   "metadata": {},
   "outputs": [],
   "source": [
    "plt.figure(figsize= (8,5))\n",
    "sns.catplot(y='Survived', x='Cabin', data=train, kind='bar', order=['A','B','C','D','E','F','G','X'])"
   ]
  },
  {
   "cell_type": "markdown",
   "id": "f6d979b0",
   "metadata": {},
   "source": [
    "##### Lets now map this alphabetical value with a numerical value"
   ]
  },
  {
   "cell_type": "code",
   "execution_count": null,
   "id": "d9f89412",
   "metadata": {},
   "outputs": [],
   "source": [
    "train['Cabin'] = train['Cabin'].map('X'=0,'A'=1,'B'=2,'C'=3,'D'=4,'E'=5,'F'=6,'G'=7,'T'=0)\n",
    "train['Cabin'] = train['Cabin'].astype(int)\n",
    "\n",
    "test['Cabin'] = test['Cabin'].map('X'=0,'A'=1,'B'=2,'C'=3,'D'=4,'E'=5,'F'=6,'G'=7,'T'=0)\n",
    "test['Cabin'] = test['Cabin'].astype(int)"
   ]
  },
  {
   "cell_type": "markdown",
   "id": "7a9fd581",
   "metadata": {},
   "source": [
    "##### Any which ways this column is not much useful, because in an actual sinking emergency all the passengers irrespective of their cabin would gather around at the port side and starboard side of the ship for evacuation. Similar thing must have happened with Titanic. Therefore it does not matter which cabin you are occupying.\n",
    "##### Women and children had the first preference, along with them there were people who belonged to the higher class. This data is covered under the \"Sex\" , \"Pclass\" and \"Age\" column.\n",
    "##### Considering this I droped the \"Cabin\" column."
   ]
  },
  {
   "cell_type": "markdown",
   "id": "aa7ffbc1",
   "metadata": {},
   "source": [
    "### 8. Name and Titles\n",
    "#### In the dataset, we have 'Name' column mentioning the names of every passenger. These names have titles along with them which will be usefull\n",
    "#### We will be splitting title from the name."
   ]
  },
  {
   "cell_type": "code",
   "execution_count": null,
   "id": "5817848b",
   "metadata": {},
   "outputs": [],
   "source": [
    "train_title = [i.split(\",\")[1].split(\".\")[0].strip() for i in train[\"Name\"]]\n",
    "train[\"Title\"] = pd.Series(train_title)\n",
    "test_title = [i.split(\",\")[1].split(\".\"),[0].strip() for i in test[\"Name\"]]\n",
    "test[\"Title\"] = pd.Series(test_title)"
   ]
  },
  {
   "cell_type": "code",
   "execution_count": null,
   "id": "a10d2d2d",
   "metadata": {},
   "outputs": [],
   "source": [
    "train = train.drop([\"Name\"], axis=1)\n",
    "test = test.drop([\"Name\"], axis=1)"
   ]
  },
  {
   "cell_type": "code",
   "execution_count": null,
   "id": "142cab7c",
   "metadata": {},
   "outputs": [],
   "source": [
    "plt.figure(figsize = (14,6))\n",
    "g = sns.countplot(x=\"Title\", data=train)\n",
    "g = sns.setp(g.get_xticklabels(), rotation = 45)"
   ]
  },
  {
   "cell_type": "markdown",
   "id": "126bfeff",
   "metadata": {},
   "source": [
    "##### Here we have our titles mapped with numeric values"
   ]
  },
  {
   "cell_type": "code",
   "execution_count": null,
   "id": "b6346606",
   "metadata": {},
   "outputs": [],
   "source": [
    "train[\"Title\"] = train[\"Title\"].replace(['Lady','the countess','Countess','Capt', 'Col','Don', 'Dr', 'Major', 'Rev', 'Sir', 'Jonkheer', 'Dona'], 'Rare'))\n",
    "train[\"Title\"] = train[\"Title\"].map({\"Master\":0, \"Miss\":1, \"Ms\" : 1 , \"Mme\":1, \"Mlle\":1, \"Mrs\":1, \"Mr\":2, \"Rare\":3})\n",
    "train[\"Title\"] = train[\"Title\"].astype(int)\n",
    "test[\"Title\"] = test[\"Title\"].replace(['Lady', 'the Countess','Countess','Capt', 'Col','Don', 'Dr', 'Major', 'Rev', 'Sir', 'Jonkheer', 'Dona'], 'Rare')\n",
    "test[\"Title\"] = test[\"Title\"].map({\"Master\":0, \"Miss\":1, \"Ms\" : 1 , \"Mme\":1, \"Mlle\":1, \"Mrs\":1, \"Mr\":2, \"Rare\":3})\n",
    "test[\"Title\"] = test[\"Title\"].astype(int)"
   ]
  },
  {
   "cell_type": "markdown",
   "id": "7ba83c0d",
   "metadata": {},
   "source": [
    "### 9. Ticket\n",
    "##### This column has the ticket number of all the passengers. Here we will be taking the ticket prefix."
   ]
  },
  {
   "cell_type": "code",
   "execution_count": null,
   "id": "0ce811dd",
   "metadata": {},
   "outputs": [],
   "source": [
    "Titcket1 = []\n",
    "for i in list(train.Ticket):\n",
    "    if not i.isdigit():\n",
    "        Ticket1.append(i.replace(\".\",\" \").replace(\"/\",\" \").strip().split(' ')[0]) #Take prefix\n",
    "    else\n",
    "        Ticket1.append(\"X\")\n",
    "train[\"Ticket\"] = Ticket1\n",
    "\n",
    "Ticket2 = []\n",
    "for i in list(test.Ticket):\n",
    "    if not i.isdigit():\n",
    "        Ticket2.append(i.replace(\".\",\" \").replace(\"/\",\" \").strip().split(' ')[0]) #Take prefix\n",
    "    else\n",
    "        Ticket2.append(\"X\")\n",
    "test[\"Ticket\"] = Ticket2"
   ]
  },
  {
   "cell_type": "code",
   "execution_count": null,
   "id": "bf3875b1",
   "metadata": {},
   "outputs": [],
   "source": [
    "train[\"Ticket\"].unique()"
   ]
  },
  {
   "cell_type": "code",
   "execution_count": null,
   "id": "a6acc9c4",
   "metadata": {},
   "outputs": [],
   "source": [
    "test[\"Ticket\"].unique()"
   ]
  },
  {
   "cell_type": "markdown",
   "id": "7c92eb6e",
   "metadata": {},
   "source": [
    "#### Here is a tricky part. The training set and test set have a few tickets which are unique to themselves."
   ]
  },
  {
   "cell_type": "code",
   "execution_count": null,
   "id": "3ca7273d",
   "metadata": {},
   "outputs": [],
   "source": [
    " np.union1d(train[\"Ticket\"], test[\"Ticket\"])"
   ]
  },
  {
   "cell_type": "markdown",
   "id": "7fcf6f28",
   "metadata": {},
   "source": [
    "#### These above tickets are common in both the sets."
   ]
  },
  {
   "cell_type": "code",
   "execution_count": null,
   "id": "4c49df97",
   "metadata": {},
   "outputs": [],
   "source": [
    "train= pd.get_dummies(train, columns = [\"Ticket\"], prefix=\"T\")\n",
    "test = pd.get_dummies(test, columns = [\"Ticket\"], prefix=\"T\")"
   ]
  },
  {
   "cell_type": "markdown",
   "id": "fedd73f7",
   "metadata": {},
   "source": [
    "#### In order to maintain the same number of columns I had to tamper the test set and had to remove these unique tickets. Same was done with training set.\n",
    "#### These are the following unique tickets which are dropped."
   ]
  },
  {
   "cell_type": "code",
   "execution_count": null,
   "id": "3419f3a1",
   "metadata": {},
   "outputs": [],
   "source": [
    "train = train.drop(['T_SP','T_SOP','T_Fa','T_LINE','T_SWPP','T_SCOW','T_PPP','T_AS','T_CASOTON'],axis = 1)\n",
    "test = test.drop(['T_SCA3','T_STONOQ','T_AQ4','T_A','T_LP','T_AQ3'],axis = 1)"
   ]
  },
  {
   "cell_type": "code",
   "execution_count": null,
   "id": "4ef41c38",
   "metadata": {},
   "outputs": [],
   "source": [
    "train.drop(['Survived'],axis=1,inplace=True)"
   ]
  },
  {
   "cell_type": "code",
   "execution_count": null,
   "id": "4241ce55",
   "metadata": {},
   "outputs": [],
   "source": [
    "train.head(5)"
   ]
  },
  {
   "cell_type": "markdown",
   "id": "74adf56e",
   "metadata": {},
   "source": [
    "#### This is our final training set after preprocessing.\n",
    "#### Note: In the above feature preprocessing, the median values are best suited for missing values in most of the Machine-Learning models.\n",
    "### Checking for missing values for the new dataframes"
   ]
  },
  {
   "cell_type": "code",
   "execution_count": null,
   "id": "6df3e5dd",
   "metadata": {},
   "outputs": [],
   "source": [
    "print(train.isnull().sum())\n",
    "print(\"Number of columns are :\",train.isnull().sum().count())"
   ]
  },
  {
   "cell_type": "code",
   "execution_count": null,
   "id": "17ac9c9e",
   "metadata": {},
   "outputs": [],
   "source": [
    "print(test.isnull().sum())\n",
    "print(\"Number of columns are :\",test.isnull().sum().count())"
   ]
  },
  {
   "cell_type": "markdown",
   "id": "ea396e78",
   "metadata": {},
   "source": [
    "#### We can now proceed further as there are no missing values in the training and test set.\n",
    "### Step 3=> Feature Scaling with Standardization\n",
    "#### Applying standarization as part of our data normalization."
   ]
  },
  {
   "cell_type": "code",
   "execution_count": null,
   "id": "73fb8920",
   "metadata": {},
   "outputs": [],
   "source": [
    "from sklearn.preprocessing import StandardScaler\n",
    "sc = StandardScaler()\n",
    "train2 = sc.fit_transform(train)\n",
    "test2 = sc.transform(test)"
   ]
  },
  {
   "cell_type": "markdown",
   "id": "8b66306a",
   "metadata": {},
   "source": [
    "### Step 5=> Build model using various Machine Learning algorithms\n",
    "#### In this section we will be training various models using different classifiers. Out of them all, we will be choosing the best classifier to give us the most accurate prediction."
   ]
  },
  {
   "cell_type": "code",
   "execution_count": null,
   "id": "d5f0dc24",
   "metadata": {},
   "outputs": [],
   "source": [
    "from pipeline import Pipeline\n",
    "from sklearn import svm\n",
    "from sklearn.linear_model import LogisticRegression\n",
    "from sklearn.ensemble import RandomForestClassifier, AdaBoostClassifier\n",
    "from sklearn.ensemble import GradientBoostingClassifier\n",
    "import xgboost as xgb\n",
    "from sklearn import metrics\n",
    "from sklearn.model_selection import KFold, cross_val_score\n",
    "\n",
    "KFold_score = pd.DataFrame()\n",
    "\n",
    "classifier = ['Linear SVM', 'Radial SVM', 'LogisticRegression', 'RandonForestClassifier', \n",
    "              'AdaBoostClassifier', 'XGBoostClassifier', 'KNeighborsClassifier',\n",
    "              'GradientBoostingClassifier']\n",
    "\n",
    "models = [svm.SVC(kernel = 'linear'),\n",
    "          svm.SVC(kernel = 'rbf'),\n",
    "          LogisticRegression(max_iter = 1000),\n",
    "          RandomForestClassifier(n_estimators = 200, random_state=0),\n",
    "          AdaBoostClassifier(random_state = 0),\n",
    "          xgb.XGBClassifier(n_estimators = 100),\n",
    "          KNeighborsClassifier(),\n",
    "          GradientBoostingClassifier(random_state = 0)]\n",
    "\n",
    "j = 0\n",
    "for i in models:\n",
    "    model = i\n",
    "    cv = KFold(n_splits = 5, random_state = 0, shuffle = True)\n",
    "    KFold_score[classifiers[j]] = (cross_val_score(model, train, np.ravel(pred), scoring = 'accuracy', cv=cv)\n",
    "    j = j + 1"
   ]
  },
  {
   "cell_type": "markdown",
   "id": "cbef459e",
   "metadata": {},
   "source": [
    "### Step 6=> Campare the accuracy to choose the suitable model\n",
    "#### Using K-Folds Cross validation to evaluate the performance of our models"
   ]
  },
  {
   "cell_type": "code",
   "execution_count": null,
   "id": "d139b893",
   "metadata": {},
   "outputs": [],
   "source": [
    "mean = pd.DataFrame(KFold_score.mean(), index = classifiers)\n",
    "KFold_score = pd.concat(KFold_score, mean.T)\n",
    "KFold_score.index = ['Fold 1','Fold 2','Fold 3','Fold 4','Fold 5','Mean']\n",
    "KFold_score.T.sort_values(by['Mean'], ascending = False)"
   ]
  },
  {
   "cell_type": "markdown",
   "id": "75b35f6a",
   "metadata": {},
   "source": [
    "#### Here RandomForestClassifier is giving the highest accuracy.\n",
    "### Step 7=> Hyperparameter tuning & do predictions"
   ]
  },
  {
   "cell_type": "code",
   "execution_count": null,
   "id": "12268547",
   "metadata": {},
   "outputs": [],
   "source": []
  }
 ],
 "metadata": {
  "kernelspec": {
   "display_name": "Python 3",
   "language": "python",
   "name": "python3"
  },
  "language_info": {
   "codemirror_mode": {
    "name": "ipython",
    "version": 3
   },
   "file_extension": ".py",
   "mimetype": "text/x-python",
   "name": "python",
   "nbconvert_exporter": "python",
   "pygments_lexer": "ipython3",
   "version": "3.8.8"
  }
 },
 "nbformat": 4,
 "nbformat_minor": 5
}
